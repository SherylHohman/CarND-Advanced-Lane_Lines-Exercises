{
 "cells": [
  {
   "cell_type": "code",
   "execution_count": null,
   "metadata": {
    "collapsed": true
   },
   "outputs": [],
   "source": []
  },
  {
   "cell_type": "code",
   "execution_count": null,
   "metadata": {
    "collapsed": true
   },
   "outputs": [],
   "source": []
  },
  {
   "cell_type": "code",
   "execution_count": null,
   "metadata": {
    "collapsed": true
   },
   "outputs": [],
   "source": []
  },
  {
   "cell_type": "code",
   "execution_count": null,
   "metadata": {
    "collapsed": true
   },
   "outputs": [],
   "source": []
  },
  {
   "cell_type": "markdown",
   "metadata": {},
   "source": [
    "### Color Space Notes"
   ]
  },
  {
   "cell_type": "markdown",
   "metadata": {},
   "source": [
    "#### **HLS** Color Space:\n",
    "\n",
    "**H** and **S** Channels Stay Fairly **Consistent**  \n",
    "in **Shadow** or Excessive **Brightness**.  \n",
    "\n",
    "Isolates the **Lightness (L)** Component, which   \n",
    "**Varies the Most Under Different Lighting Condid\\tions**  \n",
    "\n"
   ]
  },
  {
   "cell_type": "markdown",
   "metadata": {},
   "source": [
    "#### A **color space** is a specific organization of colors; color spaces provide a way to categorize colors and represent them in digital images.  \n",
    "\n",
    "**RGB** is red-green-blue color space. You can think of this as a 3D space, in this case a cube, where any color can be represented by a 3D coordinate of R, G, and B values. For example, white has the coordinate **(255, 255, 255)**, which has the maximum value for red, green, and blue.  \n",
    "\n",
    "***Note***: If you read in an image using `matplotlib.image.imread()` you will get an **RGB** image, but if you read it in using OpenCV `cv2.imread()` this will give you a **BGR** image.  \n",
    "RGB color space  \n",
    "<img src='l26-rgb-color-cube.png' />  \n",
    "RGB color space  \n",
    "There are many other ways to represent the colors in an image besides just composed of red, green, and blue values.  \n",
    "\n",
    "There is also **HSV** color space (hue, saturation, and value), and **HLS** space (hue, lightness, and saturation). These are some of the **most common**ly used color spaces **in image analysis**.  \n",
    "\n",
    "To get some intuition about these color spaces, you can generally think of **Hue** as the value that represents color independent of any change in brightness. So if you imagine a basic red paint color, then add some white to it or some black to make that color lighter or darker -- the underlying color remains the same and the hue for all of these colors will be the same.  \n",
    "\n",
    "On the other hand, **Lightness** and **Value** represent different ways to measure the relative lightness or darkness of a color. For example, a dark red will have a similar hue but much lower value for lightness than a light red.  \n",
    "**Saturation** also plays a part in this; saturation is a measurement of colorfulness. So, *as colors get lighter and closer to white, they have a lower saturation value*, whereas colors that are the most intense, like a bright primary color (imagine a bright red, blue, or yellow), have a high saturation value. You can get a better idea of these values by looking at the 3D color spaces pictured below.  \n",
    "\n",
    "(Left) HSV color space, (Right) HLS color space    \n",
    "<img src='l26-hsv-hls-color-cylinders.png' />\n",
    "(Left) HSV color space, (Right) HLS color space  \n",
    "\n",
    "Most of these different color spaces were either inspired by the human vision system, and/or developed for efficient use in television screen displays and computer graphics. You can read more about the <a href=\"https://en.wikipedia.org/wiki/HSL_and_HSV\"> history </a> and the derivation of HLS and HSV color spaces here.  \n",
    "\n",
    "In the code example, I used HLS space to help detect lane lines of different colors and under different lighting conditions.  \n",
    "\n",
    "OpenCV provides a function **<a href=\"http://docs.opencv.org/2.4/modules/imgproc/doc/miscellaneous_transformations.html#cvtcolor\">```hls = cv2.cvtColor(im, cv2.COLOR_RGB2HLS)```</a > ** that converts images from one color space to another. If you’re interested in the math behind this conversion, take a look at the equations below; note that all this math is for converting 8-bit images, which is the format for most road images in this course. These equations convert one color at a time from RGB to HLS.  \n",
    "\n",
    "#### **Constants **\n",
    "\n",
    "\\begin{equation*}\n",
    "V​max​​ ←max(R,G,B)\n",
    "\\end{equation*}  \n",
    "\\begin{equation*}\n",
    "V​min​​ ←min(R,G,B)\n",
    "\\end{equation*}  \n",
    "These are the maximum and minimum values across all three RGB values for a given color.  \n",
    "\n",
    "#### **H channel conversion equations**  \n",
    "\n",
    "There are three different equations.  \n",
    "Which one is used depends on whether the the value of  \n",
    "**$V​max​​  $**  is R, G, or B.  \n",
    "\n",
    "\\begin{equation*}\n",
    "H←  ​​​​​0 ​+​ \\frac{​​30(G−B)​​}{Vmax−Vmin}  ​​, if V​max​​ = R\n",
    "\\end{equation*}\n",
    "\n",
    "\\begin{equation*}\n",
    "H← ​​​60 ​+​ \\frac{​​30(B−R)​​}{Vmax−Vmin}  ​​, if V​max​​ = G\n",
    "\\end{equation*}\n",
    "\n",
    "\\begin{equation*}\n",
    "H←120 ​+​ \\frac{​​30(R−G)​​}{Vmax−Vmin}  ​​, if V​max​​ = B\n",
    "\\end{equation*}\n",
    "\n",
    "***Note***: In **OpenCV**, for **8-bit images**, the range of **H** is from **0-179**.  \n",
    "It's typically from 0-359 for degrees around the cylindrical colorspace,  \n",
    "but this number is divided in half so that the range can be represented in an 8-bit image,  \n",
    "whose color values range from 0-255.  \n",
    "\n",
    "#### **L channel conversion equation** \n",
    "\n",
    "\\begin{equation*}\n",
    "L←​​\\frac{Vmax+Vmin}{2}​​ \n",
    "\\end{equation*}\n",
    "\n",
    "#### **S channel conversion equations ** \n",
    "\n",
    "There are two possible equations; one is used depending on the value of $L$.  \n",
    "\n",
    "\\begin{equation*}  \n",
    "S←​​​\\frac{​​​​​​Vmax−Vmin}{​​​​​​​​Vmax+Vmin} ​​​​​​​​​,​​ if L < 0.5\n",
    "\\end{equation*}  \n",
    "\n",
    "\\begin{equation*}  \n",
    "S←​​\\frac{Vmax−Vmin}{​2−(Vmax+Vmin)} ​​,​​ if L ≥ 0.5 \n",
    "\\end{equation*}\n"
   ]
  },
  {
   "cell_type": "markdown",
   "metadata": {},
   "source": [
    "\n"
   ]
  },
  {
   "cell_type": "code",
   "execution_count": null,
   "metadata": {
    "collapsed": true
   },
   "outputs": [],
   "source": []
  }
 ],
 "metadata": {
  "kernelspec": {
   "display_name": "Python 3",
   "language": "python",
   "name": "python3"
  },
  "language_info": {
   "codemirror_mode": {
    "name": "ipython",
    "version": 3
   },
   "file_extension": ".py",
   "mimetype": "text/x-python",
   "name": "python",
   "nbconvert_exporter": "python",
   "pygments_lexer": "ipython3",
   "version": "3.5.2"
  }
 },
 "nbformat": 4,
 "nbformat_minor": 2
}
