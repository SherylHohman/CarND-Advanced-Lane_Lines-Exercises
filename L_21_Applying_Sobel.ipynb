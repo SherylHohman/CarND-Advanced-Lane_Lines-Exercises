{
 "cells": [
  {
   "cell_type": "markdown",
   "metadata": {},
   "source": [
    "### L21: Applying Sobel:"
   ]
  },
  {
   "cell_type": "code",
   "execution_count": null,
   "metadata": {
    "collapsed": true
   },
   "outputs": [],
   "source": [
    "import numpy as np\n",
    "import cv2\n",
    "import matplotlib.pyplot as plt\n",
    "import matplotlib.image as mpimg\n",
    "import pickle\n",
    "\n",
    "\n",
    "# Read in an image and grayscale it\n",
    "image = mpimg.imread('signs_vehicles_xygrad.png')\n",
    "\n",
    "# Define a function that applies Sobel x or y, \n",
    "# then takes an absolute value and applies a threshold.\n",
    "# Note: calling your function with orient='x', thresh_min=5, thresh_max=100\n",
    "# should produce output like the example image shown above this quiz.\n",
    "def abs_sobel_thresh(img, orient='x', thresh_min=0, thresh_max=255):\n",
    "    \n",
    "    # Apply the following steps to img\n",
    "    # 1) Convert to grayscale\n",
    "    # 2) Take the derivative in x or y given orient = 'x' or 'y'\n",
    "    # 3) Take the absolute value of the derivative or gradient\n",
    "    # 4) Scale to 8-bit (0 - 255) then convert to type = np.uint8\n",
    "    # 5) Create a mask of 1's where the scaled gradient magnitude \n",
    "            # is > thresh_min and < thresh_max\n",
    "    # 6) Return this mask as your binary_output image\n",
    "    binary_output = np.copy(img) # Remove this line\n",
    "    return binary_output\n",
    "    \n",
    "# Run the function\n",
    "grad_binary = abs_sobel_thresh(image, orient='x', thresh_min=20, thresh_max=100)\n",
    "# Plot the result\n",
    "f, (ax1, ax2) = plt.subplots(1, 2, figsize=(24, 9))\n",
    "f.tight_layout()\n",
    "ax1.imshow(image)\n",
    "ax1.set_title('Original Image', fontsize=50)\n",
    "ax2.imshow(grad_binary, cmap='gray')\n",
    "ax2.set_title('Thresholded Gradient', fontsize=50)\n",
    "plt.subplots_adjust(left=0., right=1, top=0.9, bottom=0.)"
   ]
  },
  {
   "cell_type": "markdown",
   "metadata": {
    "collapsed": true
   },
   "source": [
    "### ReadMe: Applying Sobel, Quiz\n",
    "Here's your chance to write a function that will be useful for the Advanced Lane-Finding Project at the end of this lesson! Your goal in this exercise is to identify pixels where the gradient of an image falls within a specified threshold range.  \n",
    "\n",
    "Example  \n",
    "<img src='l21-sobel-thresh-x-example.png' />  \n",
    "\n",
    "Here's the scaffolding for your function:  \n",
    "```\n",
    "def abs_sobel_thresh(img, orient='x', thresh_min=0, thresh_max=255):  \n",
    "    # Grayscale  \n",
    "    # Apply cv2.Sobel()  \n",
    "    # Take the absolute value of the output from cv2.Sobel()  \n",
    "    # Scale the result to an 8-bit range (0-255)  \n",
    "    # Apply lower and upper thresholds  \n",
    "    # Create binary_output  \n",
    "    return binary_output  \n",
    "```    \n",
    "Pass in `img` and set the parameter orient as '` x `' or '` y `' to take either the x or y gradient.  \n",
    "Set `min_thresh`, and `max_thresh` to specify the range to select for binary output.  \n",
    "You can use exclusive (` < `, ` > `) or inclusive (` <= `, ` >= `) thresholding.  \n",
    "\n",
    "NOTE: Your output should be an array of the same size as the input image.  \n",
    "The output array elements should be ` 1 ` where gradients were in the threshold range, and ` 0 ` everywhere else.  \n",
    "\n",
    "As usual, if you run into any errors as you run your code, please refer to the  \n",
    "Examples of Useful Code section in the previous video and make sure that your code syntax matches up!  "
   ]
  },
  {
   "cell_type": "code",
   "execution_count": null,
   "metadata": {
    "collapsed": true
   },
   "outputs": [],
   "source": []
  },
  {
   "cell_type": "markdown",
   "metadata": {
    "collapsed": true
   },
   "source": [
    "### Examples of Useful Code "
   ]
  },
  {
   "cell_type": "markdown",
   "metadata": {
    "collapsed": true
   },
   "source": [
    "#### Sobel Operator  \n",
    "The Sobel operator is at the heart of the Canny edge detection algorithm you used in the Introductory Lesson. Applying the Sobel operator to an image is a way of taking the derivative of the image in the x or y direction. The operators for `Sobel  ​x  ​​` and `Sobel  ​y  ​​` , respectively, look like this:  \n",
    "<img src='l21-soble-operator.png' />\n",
    "\n",
    "These are examples of Sobel operators with a kernel size of 3 (implying a 3 x 3 operator in each case). This is the minimum size, but the kernel size can be any odd number. A larger kernel implies taking the gradient over a larger region of the image, or, in other words, a smoother gradient.  \n",
    "\n",
    "To understand how these operators take the derivative, you can think of overlaying either one on a 3 x 3 region of an image. If the image is flat across that region, then the result (summing the element-wise product of the operator and corresponding image pixels) will be zero. If, instead, for example, you apply the `S  ​x  ​​ ` operator to a region of the image where values are rising from left to right, then the result will be positive, implying a positive derivative.  \n",
    "\n",
    "Derivative Example  \n",
    "If we apply the Sobel x and y operators to this image: \n",
    "<img src='l21-curved-lane.jpg' /> \n",
    "\n",
    "And then we take the absolute value, we get the result:  \n",
    "Absolute value of Sobel x (left) and Sobel y (right).   x vs. y  \n",
    " <img src='l21-sobelx-vs-sobely.png' />\n",
    "Absolute value of Sobel x (left) and Sobel y (right).   \n",
    "\n",
    "In the above images, you can see that the gradients taken in both the x and the y directions detect the lane lines and pick up other edges. Taking the gradient in the x direction emphasizes edges closer to vertical. Alternatively, taking the gradient in the y direction emphasizes edges closer to horizontal.  \n",
    "\n",
    "In the upcoming exercises, you'll write functions to take various thresholds of the x and y gradients. Here's some code that might be useful:  \n",
    "\n",
    "**Examples of Useful Code**   \n",
    "\n",
    "You need to pass a single color channel to the `cv2.Sobel()` function, so first convert it to grayscale:  \n",
    "```\n",
    "gray = cv2.cvtColor(im, cv2.COLOR_RGB2GRAY)\n",
    "```   \n",
    "\n",
    "Note: Make sure you use the correct grayscale conversion depending on how you've read in your images. Use `cv2.COLOR_RGB2GRAY` if you've read in an image using `mpimg.imread()`. Use `cv2.COLOR_BGR2GRAY` if you've read in an image using `cv2.imread()`.  \n",
    "\n",
    "Calculate the derivative in the x direction (the 1, 0 at the end denotes x direction):  \n",
    "```\n",
    "sobelx = cv2.Sobel(gray, cv2.CV_64F, 1, 0)\n",
    "```  \n",
    "\n",
    "Calculate the derivative in the y direction (the 0, 1 at the end denotes y direction):  \n",
    "```\n",
    "sobely = cv2.Sobel(gray, cv2.CV_64F, 0, 1)\n",
    "```  \n",
    "\n",
    "Calculate the absolute value of the x derivative:  \n",
    "```\n",
    "abs_sobelx = np.absolute(sobelx)\n",
    "```  \n",
    "\n",
    "Convert the absolute value image to 8-bit:  \n",
    "```\n",
    "scaled_sobel = np.uint8(255*abs_sobelx/np.max(abs_sobelx))\n",
    "```  \n",
    "\n",
    "Note: It's not entirely necessary to convert to 8-bit (range from 0 to 255) but in practice, it can be useful in the event that you've written a function to apply a particular threshold, and you want it to work the same on input images of different scales, like jpg vs. png. You could just as well choose a different standard range of values, like 0 to 1 etc.  \n",
    "\n",
    "Create a binary threshold to select pixels based on gradient strength:\\\\\n",
    "\n",
    "```\n",
    "thresh_min = 20  \n",
    "thresh_max = 100  \n",
    "sxbinary = np.zeros_like(scaled_sobel)  \n",
    "sxbinary[(scaled_sobel >= thresh_min) & (scaled_sobel <= thresh_max)] = 1  \n",
    "plt.imshow(sxbinary, cmap='gray')  \n",
    "```\n",
    "Result  \n",
    "Pixels have a value of 1 or 0 based on the strength of the <span class=\"mathquill\">x</span> gradient.  \n",
    "<img src='l21-sobelx-binary.jpg' />  \n",
    "Pixels have a value of 1 or 0 based on the strength of the x gradient.  \n",
    "\n",
    "\n"
   ]
  },
  {
   "cell_type": "code",
   "execution_count": null,
   "metadata": {
    "collapsed": true
   },
   "outputs": [],
   "source": []
  }
 ],
 "metadata": {
  "kernelspec": {
   "display_name": "Python 3",
   "language": "python",
   "name": "python3"
  },
  "language_info": {
   "codemirror_mode": {
    "name": "ipython",
    "version": 3
   },
   "file_extension": ".py",
   "mimetype": "text/x-python",
   "name": "python",
   "nbconvert_exporter": "python",
   "pygments_lexer": "ipython3",
   "version": "3.5.2"
  }
 },
 "nbformat": 4,
 "nbformat_minor": 2
}
